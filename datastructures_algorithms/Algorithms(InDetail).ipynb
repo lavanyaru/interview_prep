{
 "cells": [
  {
   "cell_type": "markdown",
   "metadata": {},
   "source": [
    "###### SEARCHING ALGORITHMS\n",
    "    * Linear Search\n",
    "    * Binary Search\n",
    "    \n",
    "###### SORTING ALGORITHMS\n",
    "    * Bubble Sort\n",
    "    * Selection Sort\n",
    "    * Insertion Sort\n",
    "    * Merge Sort\n",
    "    * Quick Sort"
   ]
  },
  {
   "cell_type": "markdown",
   "metadata": {},
   "source": [
    "#### COMPARISONS\n",
    "     * Randomly Ordered Inputs\n",
    "           Bubble < Selection < Insertion < Merge < Quick\n",
    "\n",
    "     * Already Sorted Input\n",
    "           Selection < Merge < Quick < Insertion < Bubble\n",
    "\n",
    "     * Reverse Sorted Input\n",
    "           Bubble < Insertion < Selection < Merge < Quick\n",
    "\n",
    "     * Randomly Ordered Input with Many Duplicates\n",
    "           Bubble < Selection < Insertion < Merge < Quick\n",
    "\n",
    "     * Python's built-in Tim sort is crazy fast in all test\n",
    "     * Bubble sort is very slow in all tests except in already sorted tests  \n",
    "     * Insertion sort is faster than Selection sort except in reverse sorted input\n",
    "     * Bubble sort is a stable algorithm, in contrast, selection sort is unstable\n",
    "     * Quick sort is generally faster than Merge sort\n",
    "\n",
    "    * Bubble sort, Selection sort and Insertion sort are in-place comparison sorting algorithms; no additional      \n",
    "      arrays needed for data to be temporarily stored\n",
    "      (An algorithm is sorting in-place when it uses ≤ c LogN extra memory)"
   ]
  },
  {
   "cell_type": "markdown",
   "metadata": {},
   "source": [
    "#### TIPS"
   ]
  },
  {
   "cell_type": "markdown",
   "metadata": {},
   "source": [
    "###### Binary Search <br/>\n",
    "Problem is divided until\n",
    "$\n",
    "\\begin{align}\n",
    "\\frac{n}{2^{k}} &= 1\\\\\n",
    "\\end{align}\n",
    "$\n",
    "<br/>\n",
    "where k is the number of times the problem is divided, which is equal to log n <br/><br/>"
   ]
  },
  {
   "cell_type": "markdown",
   "metadata": {},
   "source": [
    "##### Bubble Sort\n",
    "###### Comparisons and Swaps <br/><br/>\n",
    "$\n",
    "\\begin{align*}\n",
    "     &        &    Comparisons    &&       Swaps       &  \\\\\n",
    "Worst&        & \\frac{(n-1)n}{2} && \\frac{(n-1)n}{2} \\\\\n",
    "Average&      & \\frac{(n-1)n}{2} && \\frac{(n-1)n}{4} \\\\\n",
    "Best&         & \\frac{(n-1)n}{2} && 0 \\\\\n",
    "Best(Improved)&    & (n-1) && 0 \\\\\n",
    "\\end{align*}\n",
    "$\n",
    "<br/>\n",
    "##### Time Complexity Calculation <br/><br/>\n",
    "$\n",
    "\\begin{equation*}\n",
    "\\sum_{i=2}^{n} \\sum_{j=1}^{i-1} \\left( {Time ComplexityOfComparison} \\right)\\\\\n",
    "\\sum_{i=2}^{n} \\sum_{j=1}^{i-1} \\left( {1} \\right)\\\\\n",
    "\\sum_{i=2}^{n} \\left(\\left({i-1}\\right){-1}\\right)  + \\left( {1} \\right)\\\\\n",
    "\\sum_{i=2}^{n} \\left({i-1} \\right)\\\\\n",
    "\\left({2-1} \\right)  \\left({3-1} \\right) ... \\left({n-1} \\right)\\\\\n",
    "\\left({1} \\right)  \\left({2} \\right) ... \\left({n-1} \\right)\\\\\n",
    "\\frac{(n-1)n}{2} \n",
    "\\end{equation*}\n",
    "$"
   ]
  },
  {
   "cell_type": "markdown",
   "metadata": {},
   "source": [
    "##### Selection Sort \n",
    "###### Comparisons and Swaps <br/><br/>\n",
    "$\n",
    "\\begin{align*}\n",
    "     &        &    Comparisons    &&       Swaps       &  \\\\\n",
    "Worst&        & \\frac{(n-1)n}{2} && (n-1) \\\\\n",
    "Average&      & \\frac{(n-1)n}{2} && \\frac{(n-1)}{2} \\\\\n",
    "Best&         & \\frac{(n-1)n}{2} && 0 \\\\\n",
    "\\end{align*}\n",
    "$\n",
    "<br/>\n",
    "###### Time Complexity Calculation <br/><br/>\n",
    "$\n",
    "\\begin{equation*}\n",
    "\\sum_{i=2}^{n} \\sum_{j=2}^{i} \\left( {Time ComplexityOfComparison} \\right)\\\\\n",
    "\\sum_{i=2}^{n} \\sum_{j=2}^{i} \\left( {1} \\right)\\\\\n",
    "\\sum_{i=2}^{n} \\left({i-2}\\right) + \\left( {1} \\right)\\\\\n",
    "\\sum_{i=2}^{n} \\left({i-1} \\right)\\\\\n",
    "\\left({2-1} \\right)  \\left({3-1} \\right) ... \\left({n-1} \\right)\\\\\n",
    "\\left({1} \\right)  \\left({2} \\right) ... \\left({n-1} \\right)\\\\\n",
    "\\frac{(n-1)n}{2} \n",
    "\\end{equation*}\n",
    "$"
   ]
  },
  {
   "cell_type": "markdown",
   "metadata": {},
   "source": [
    "##### Insertion Sort\n",
    "###### Comparisons and Swaps <br/><br/>\n",
    "$\n",
    "\\begin{align*}\n",
    "     &        &      Comparisons      &&     Swaps              &  \\\\\n",
    "Worst&        & \\frac{(n+2)(n-1)}{2}  &&   \\frac{(n^2 + 3n - 2)}{2}   \\\\\n",
    "Best&         & n-1                   &&             2n-1             \\\\\n",
    "\\end{align*}\n",
    "$\n",
    "<br/>\n",
    "###### Worst Case Time Complexity Calculation <br/><br/>\n",
    "$\n",
    "\\begin{equation*}\n",
    "\\sum_{i=2}^{n} \\sum_{j=1}^{i} \\left( {Time ComplexityOfComparison} \\right)\\\\\n",
    "\\sum_{i=2}^{n} \\sum_{j=1}^{i} \\left( {1} \\right)\\\\\n",
    "\\sum_{i=2}^{n} \\left( {i-1} \\right) + \\left( {1} \\right)\\\\\n",
    "\\sum_{i=2}^{n} {i} \\\\\n",
    "\\left( \\sum_{i=1}^{n} {i} \\right) - 1\\\\\n",
    "\\left( {1} + {2} +{ }...{ }+ {n} \\right)- 1\\\\\n",
    "\\left( \\frac{n(n+1)}{2} \\right)- 1\\\\\n",
    "\\frac{(n+2)(n-1)}{2}\\\\\n",
    "\\end{equation*}\n",
    "$"
   ]
  },
  {
   "cell_type": "markdown",
   "metadata": {},
   "source": [
    "##### Merge Sort \n",
    "Problem is divided until\n",
    "$\n",
    "\\begin{align}\n",
    "\\frac{n}{2^{k}} &= 1\\\\\n",
    "\\end{align}\n",
    "$\n",
    "where k is the number of times the problem is divided, which is equal to log n. <br/>\n",
    "There are n-1 comparisons done at each level. <br/>\n",
    "Amount of work done at each level = sub problem * number of comparisons<br/>\n",
    "\n",
    "Amount of work done at level 1 is: \n",
    "$ \n",
    "\\begin{align}\n",
    "{1}\\left( {n-1} \\right)&&OR&&{2^{0}}\\left( {\\frac{n}{2^{0}}-1} \\right)\n",
    "\\end{align}\n",
    "$\n",
    "<br/>\n",
    "\n",
    "Amount of work done at level 2 is:\n",
    "$ \n",
    "\\begin{align}\n",
    "{2}\\left( {\\frac{n}{2}-1} \\right)&&OR&&{2^{1}}\\left( {\\frac{n}{2^{1}}-1} \\right)\n",
    "\\end{align}\n",
    "$\n",
    "<br/>\n",
    "\n",
    "Amount of work done at level 3 is:\n",
    "$ \n",
    "\\begin{align}\n",
    "{4}\\left( {\\frac{n}{4}-1} \\right)&&OR&&{2^{2}}\\left( {\\frac{n}{2^{2}}-1} \\right)\n",
    "\\end{align}\n",
    "$\n",
    "<br/>...\n",
    "<br/>...\n",
    "<br/>...\n",
    "<br/>\n",
    "Amount of work done at level i is:\n",
    "$ \n",
    "\\begin{align}\n",
    "{2^{i}}\\left( {\\frac{n}{2^{i}}-1} \\right)\n",
    "\\end{align}\n",
    "$\n",
    "\n",
    "<br/>\n",
    "Total work done = work at each level * number of levels <br/>\n",
    "$\n",
    "\\begin{equation*}\n",
    "\\sum_{i=0}^{logn-1} {2^{i}}\\left( {\\frac{n}{2^{i}}-1} \\right)\\\\\n",
    "\\sum_{i=0}^{logn-1} {n} - \\sum_{i=0}^{logn-1} {2^{i}}\\\\\n",
    "\\left({n logn}\\right) - \\left({n-1}\\right)\\\\\n",
    "\\end{equation*}\n",
    "$"
   ]
  },
  {
   "cell_type": "markdown",
   "metadata": {},
   "source": [
    "<img src=\"https://previews.dropbox.com/p/thumb/AAYr10DPM67Rj4Gnd9pkCfOYHVWsdVxbgspRsStQCPHhRD29kuyqIu7eqnZtzC0xICmRxKvQkvUwAfRhgPN8B10yQaU1fw_n1wjrUJvrKWSWVWu95xBALhjqfljtPnqDnpxLUv6fFPSm0Awh_aRB2Z4O_8Z6t-f2UvgW_XTEPL7JG_Dy8rdwUZLh3bvvjLQ6A7hKVI0bMBkSXAdRoyKU-zNDzblD13WyqJ9kpbY0RVwjcxQyRM7mFXctT3RLUdn1KCara5M3lhgNSfXgmc7DyOFBFxZfnBtrLNsCjMLML1cfu2sJ2YjycWdICoFpwwPGzbS2DwUeE2suvB2E5YpJi8fP3L9sYA_t1UdJgifccg6gtYFo8A6qS9v7lWdKh4mOG0MvgmtBhAg_7_BPSjuNiCyPbfXA64GxxjaqnzV8LkXPpg/p.png?size_mode=5\" style=\"height:250px\">"
   ]
  },
  {
   "cell_type": "markdown",
   "metadata": {},
   "source": [
    "#### LINEAR SEARCH"
   ]
  },
  {
   "cell_type": "code",
   "execution_count": 1,
   "metadata": {},
   "outputs": [],
   "source": [
    "def LinearSearch(a, x):\n",
    "    if len(a) == 0: return 'Array is empty'\n",
    "    for i in range(0, len(a)):\n",
    "        if a[i] == x: \n",
    "            return 'Element is found at ' + str(i)\n",
    "    return 'Element is not found'"
   ]
  },
  {
   "cell_type": "code",
   "execution_count": 2,
   "metadata": {},
   "outputs": [],
   "source": [
    "print(LinearSearch([54,26,93,17,77,31,44,55,20], 20))"
   ]
  },
  {
   "cell_type": "code",
   "execution_count": 3,
   "metadata": {},
   "outputs": [],
   "source": [
    "print(LinearSearch([54,26,93,17,77,31,44,55,20], 19))"
   ]
  },
  {
   "cell_type": "code",
   "execution_count": 4,
   "metadata": {},
   "outputs": [],
   "source": [
    "print(LinearSearch([], 5))"
   ]
  },
  {
   "cell_type": "code",
   "execution_count": 5,
   "metadata": {},
   "outputs": [
    {
     "name": "stdout",
     "output_type": "stream",
     "text": [
      "Enter the element to be searched: 55\n",
      "Element is found in the list.\n"
     ]
    }
   ],
   "source": [
    "myarray = [54,26,93,17,77,31,44,55,20]\n",
    "element = int(input('Enter the element to be searched: '))\n",
    "if element in myarray:\n",
    "    print('Element is found in the list.')\n",
    "else:\n",
    "    print('Element is not found in the list.')"
   ]
  },
  {
   "cell_type": "markdown",
   "metadata": {},
   "source": [
    "#### BINARY SEARCH"
   ]
  },
  {
   "cell_type": "code",
   "execution_count": 6,
   "metadata": {},
   "outputs": [],
   "source": [
    "def BinarySearchIterative(a, x):\n",
    "    if len(a) == 0:  return 'Array is empty'\n",
    "    start, end = 0, len(a)-1\n",
    "    while start <= end:\n",
    "        mid = (start+end)//2\n",
    "        if a[mid] == x: return 'Element is found at ' + str(mid)\n",
    "        elif a[mid] > x: end = mid - 1\n",
    "        else: start = mid + 1\n",
    "    return 'Element is not found'"
   ]
  },
  {
   "cell_type": "code",
   "execution_count": 7,
   "metadata": {},
   "outputs": [
    {
     "name": "stdout",
     "output_type": "stream",
     "text": [
      "Element is found at 5\n"
     ]
    }
   ],
   "source": [
    "print(BinarySearchIterative([12, 45, 54, 69, 75, 99], 99))"
   ]
  },
  {
   "cell_type": "code",
   "execution_count": 8,
   "metadata": {},
   "outputs": [
    {
     "name": "stdout",
     "output_type": "stream",
     "text": [
      "Element is not found\n"
     ]
    }
   ],
   "source": [
    "print(BinarySearchIterative([12, 45, 54, 69, 75, 99], 100))"
   ]
  },
  {
   "cell_type": "code",
   "execution_count": 9,
   "metadata": {},
   "outputs": [
    {
     "name": "stdout",
     "output_type": "stream",
     "text": [
      "Array is empty\n"
     ]
    }
   ],
   "source": [
    "print(BinarySearchIterative([], 10))"
   ]
  },
  {
   "cell_type": "code",
   "execution_count": 10,
   "metadata": {},
   "outputs": [],
   "source": [
    "def BinarySearchRecursive(a, x, start, end):\n",
    "    if len(a) == 0: return 'Array is empty'\n",
    "    if start <= end:\n",
    "        mid = (start+end)//2\n",
    "        if a[mid] == x: return 'Element is found at ' + str(mid)  \n",
    "        elif a[mid] > x: return BinarySearchRecursive(a, x, start, mid-1)\n",
    "        elif a[mid] < x: return BinarySearchRecursive(a, x, mid+1, end)\n",
    "    return 'Element is not found'"
   ]
  },
  {
   "cell_type": "code",
   "execution_count": 11,
   "metadata": {},
   "outputs": [
    {
     "name": "stdout",
     "output_type": "stream",
     "text": [
      "Element is found at 5\n"
     ]
    }
   ],
   "source": [
    "a1 = [12, 45, 54, 69, 75, 99]\n",
    "print(BinarySearchRecursive(a1, 99, 0, len(a1)-1))"
   ]
  },
  {
   "cell_type": "code",
   "execution_count": 12,
   "metadata": {},
   "outputs": [
    {
     "name": "stdout",
     "output_type": "stream",
     "text": [
      "Element is not found\n"
     ]
    }
   ],
   "source": [
    "print(BinarySearchRecursive(a1, 100, 0, len(a1)-1))"
   ]
  },
  {
   "cell_type": "code",
   "execution_count": 13,
   "metadata": {},
   "outputs": [
    {
     "name": "stdout",
     "output_type": "stream",
     "text": [
      "Array is empty\n"
     ]
    }
   ],
   "source": [
    "print(BinarySearchRecursive([], 10, 0, 5))"
   ]
  },
  {
   "cell_type": "markdown",
   "metadata": {},
   "source": [
    "#### BUBBLE SORT "
   ]
  },
  {
   "cell_type": "code",
   "execution_count": 14,
   "metadata": {},
   "outputs": [],
   "source": [
    "def BubbleSort(a):\n",
    "    if len(a) == 0: return 'Array is empty'\n",
    "    if len(a) == 1: return a\n",
    "    \n",
    "    for i in range(0, len(a)-1):\n",
    "        swap = 0\n",
    "        for j in range(0, len(a)-1-i):\n",
    "            if a[j] > a[j+1]:\n",
    "                a[j], a[j+1] = a[j+1], a[j]\n",
    "                swap += 1\n",
    "        if swap == 0: \n",
    "            print('Array after loop ' + str(i) + ': ', a)\n",
    "            break\n",
    "        print('Array after loop ' + str(i) + ': ', a)\n",
    "    return a"
   ]
  },
  {
   "cell_type": "code",
   "execution_count": 15,
   "metadata": {},
   "outputs": [
    {
     "name": "stdout",
     "output_type": "stream",
     "text": [
      "Array after loop 0:  [1, 3, 4, 6, 8, 9]\n",
      "[1, 3, 4, 6, 8, 9]\n"
     ]
    }
   ],
   "source": [
    "print(BubbleSort([1,3,4,6,8,9]))"
   ]
  },
  {
   "cell_type": "code",
   "execution_count": 16,
   "metadata": {},
   "outputs": [
    {
     "name": "stdout",
     "output_type": "stream",
     "text": [
      "Array after loop 0:  [4, 3, 6, 8, 1, 9]\n",
      "Array after loop 1:  [3, 4, 6, 1, 8, 9]\n",
      "Array after loop 2:  [3, 4, 1, 6, 8, 9]\n",
      "Array after loop 3:  [3, 1, 4, 6, 8, 9]\n",
      "Array after loop 4:  [1, 3, 4, 6, 8, 9]\n",
      "[1, 3, 4, 6, 8, 9]\n"
     ]
    }
   ],
   "source": [
    "print(BubbleSort([4,8,3,6,9,1])) "
   ]
  },
  {
   "cell_type": "code",
   "execution_count": 17,
   "metadata": {},
   "outputs": [
    {
     "name": "stdout",
     "output_type": "stream",
     "text": [
      "Array after loop 0:  [8, 6, 4, 3, 1, 9]\n",
      "Array after loop 1:  [6, 4, 3, 1, 8, 9]\n",
      "Array after loop 2:  [4, 3, 1, 6, 8, 9]\n",
      "Array after loop 3:  [3, 1, 4, 6, 8, 9]\n",
      "Array after loop 4:  [1, 3, 4, 6, 8, 9]\n",
      "[1, 3, 4, 6, 8, 9]\n"
     ]
    }
   ],
   "source": [
    "print(BubbleSort([9,8,6,4,3,1]))"
   ]
  },
  {
   "cell_type": "code",
   "execution_count": 18,
   "metadata": {},
   "outputs": [
    {
     "name": "stdout",
     "output_type": "stream",
     "text": [
      "Array is empty\n"
     ]
    }
   ],
   "source": [
    "print(BubbleSort([]))"
   ]
  },
  {
   "cell_type": "markdown",
   "metadata": {},
   "source": [
    "#### SELECTION SORT"
   ]
  },
  {
   "cell_type": "code",
   "execution_count": 19,
   "metadata": {},
   "outputs": [],
   "source": [
    "def SelectionSort(a):\n",
    "    if len(a) == 0: return 'Array is empty'\n",
    "    if len(a) == 1: return a\n",
    "    \n",
    "    for i in range(0, len(a)-1):\n",
    "        minloc = i\n",
    "        for j in range(i+1, len(a)):\n",
    "            if a[j] < a[minloc]: minloc = j\n",
    "        if minloc != i: a[i], a[minloc] = a[minloc], a[i]\n",
    "        print('Array after loop ' + str(i) + ': ', a)\n",
    "    return a"
   ]
  },
  {
   "cell_type": "code",
   "execution_count": 20,
   "metadata": {},
   "outputs": [
    {
     "name": "stdout",
     "output_type": "stream",
     "text": [
      "Array after loop 0:  [1, 3, 4, 6, 8, 9]\n",
      "Array after loop 1:  [1, 3, 4, 6, 8, 9]\n",
      "Array after loop 2:  [1, 3, 4, 6, 8, 9]\n",
      "Array after loop 3:  [1, 3, 4, 6, 8, 9]\n",
      "Array after loop 4:  [1, 3, 4, 6, 8, 9]\n",
      "[1, 3, 4, 6, 8, 9]\n"
     ]
    }
   ],
   "source": [
    "print(SelectionSort([1,3,4,6,8,9]))"
   ]
  },
  {
   "cell_type": "code",
   "execution_count": 21,
   "metadata": {},
   "outputs": [
    {
     "name": "stdout",
     "output_type": "stream",
     "text": [
      "Array after loop 0:  [1, 8, 3, 6, 9, 4]\n",
      "Array after loop 1:  [1, 3, 8, 6, 9, 4]\n",
      "Array after loop 2:  [1, 3, 4, 6, 9, 8]\n",
      "Array after loop 3:  [1, 3, 4, 6, 9, 8]\n",
      "Array after loop 4:  [1, 3, 4, 6, 8, 9]\n",
      "[1, 3, 4, 6, 8, 9]\n"
     ]
    }
   ],
   "source": [
    "print(SelectionSort([4,8,3,6,9,1])) "
   ]
  },
  {
   "cell_type": "code",
   "execution_count": 22,
   "metadata": {},
   "outputs": [
    {
     "name": "stdout",
     "output_type": "stream",
     "text": [
      "Array after loop 0:  [1, 8, 6, 4, 3, 9]\n",
      "Array after loop 1:  [1, 3, 6, 4, 8, 9]\n",
      "Array after loop 2:  [1, 3, 4, 6, 8, 9]\n",
      "Array after loop 3:  [1, 3, 4, 6, 8, 9]\n",
      "Array after loop 4:  [1, 3, 4, 6, 8, 9]\n",
      "[1, 3, 4, 6, 8, 9]\n"
     ]
    }
   ],
   "source": [
    "print(SelectionSort([9,8,6,4,3,1]))"
   ]
  },
  {
   "cell_type": "code",
   "execution_count": 23,
   "metadata": {},
   "outputs": [
    {
     "name": "stdout",
     "output_type": "stream",
     "text": [
      "Array is empty\n"
     ]
    }
   ],
   "source": [
    "print(SelectionSort([]))"
   ]
  },
  {
   "cell_type": "markdown",
   "metadata": {},
   "source": [
    "#### INSERTION SORT"
   ]
  },
  {
   "cell_type": "code",
   "execution_count": 24,
   "metadata": {},
   "outputs": [],
   "source": [
    "def InsertionSort(a):\n",
    "    if len(a) == 0:\n",
    "        return 'Array is empty'\n",
    "    if len(a) == 1:\n",
    "        return a\n",
    "    else:\n",
    "        for i in range(1, len(a)):\n",
    "            for j in range(i-1, -1, -1):\n",
    "                if a[j] > a[j+1]:\n",
    "                    a[j], a[j+1] = a[j+1], a[j]\n",
    "                else:\n",
    "                    break\n",
    "            print('Array after loop ' + str(i) + ': ', a)\n",
    "        return a"
   ]
  },
  {
   "cell_type": "code",
   "execution_count": 25,
   "metadata": {},
   "outputs": [
    {
     "name": "stdout",
     "output_type": "stream",
     "text": [
      "Array after loop 1:  [1, 3, 4, 6, 8, 9]\n",
      "Array after loop 2:  [1, 3, 4, 6, 8, 9]\n",
      "Array after loop 3:  [1, 3, 4, 6, 8, 9]\n",
      "Array after loop 4:  [1, 3, 4, 6, 8, 9]\n",
      "Array after loop 5:  [1, 3, 4, 6, 8, 9]\n",
      "[1, 3, 4, 6, 8, 9]\n"
     ]
    }
   ],
   "source": [
    "print(InsertionSort([1,3,4,6,8,9]))"
   ]
  },
  {
   "cell_type": "code",
   "execution_count": 26,
   "metadata": {},
   "outputs": [
    {
     "name": "stdout",
     "output_type": "stream",
     "text": [
      "Array after loop 1:  [4, 8, 3, 6, 9, 1]\n",
      "Array after loop 2:  [3, 4, 8, 6, 9, 1]\n",
      "Array after loop 3:  [3, 4, 6, 8, 9, 1]\n",
      "Array after loop 4:  [3, 4, 6, 8, 9, 1]\n",
      "Array after loop 5:  [1, 3, 4, 6, 8, 9]\n",
      "[1, 3, 4, 6, 8, 9]\n"
     ]
    }
   ],
   "source": [
    "print(InsertionSort([4,8,3,6,9,1])) "
   ]
  },
  {
   "cell_type": "code",
   "execution_count": 27,
   "metadata": {},
   "outputs": [
    {
     "name": "stdout",
     "output_type": "stream",
     "text": [
      "Array after loop 1:  [8, 9, 6, 4, 3, 1]\n",
      "Array after loop 2:  [6, 8, 9, 4, 3, 1]\n",
      "Array after loop 3:  [4, 6, 8, 9, 3, 1]\n",
      "Array after loop 4:  [3, 4, 6, 8, 9, 1]\n",
      "Array after loop 5:  [1, 3, 4, 6, 8, 9]\n",
      "[1, 3, 4, 6, 8, 9]\n"
     ]
    }
   ],
   "source": [
    "print(InsertionSort([9,8,6,4,3,1]))"
   ]
  },
  {
   "cell_type": "code",
   "execution_count": 28,
   "metadata": {},
   "outputs": [
    {
     "name": "stdout",
     "output_type": "stream",
     "text": [
      "Array is empty\n"
     ]
    }
   ],
   "source": [
    "print(InsertionSort([]))"
   ]
  },
  {
   "cell_type": "markdown",
   "metadata": {},
   "source": [
    "#### MERGE SORT"
   ]
  },
  {
   "cell_type": "code",
   "execution_count": 29,
   "metadata": {},
   "outputs": [],
   "source": [
    "def Merge(a, b):\n",
    "    print('Lists to be merged: ', a, 'and', b)\n",
    "    c = []\n",
    "    a_idx, b_idx = 0, 0\n",
    "    while a_idx < len(a) and b_idx < len(b):\n",
    "        if a[a_idx] < b[b_idx]:\n",
    "            c.append(a[a_idx])\n",
    "            a_idx += 1\n",
    "        else:\n",
    "            c.append(b[b_idx])\n",
    "            b_idx += 1\n",
    "            \n",
    "    if a_idx < len(a): c.extend(a[a_idx:])\n",
    "    else: c.extend(b[b_idx:])\n",
    "    return c"
   ]
  },
  {
   "cell_type": "code",
   "execution_count": 30,
   "metadata": {},
   "outputs": [],
   "source": [
    "def MergeSort(a):\n",
    "    if len(a) == 0: return 'Array is empty'\n",
    "    if len(a) == 1: return a\n",
    "    \n",
    "    print('List to be sorted: ', a)\n",
    "    left, right = MergeSort(a[:len(a)//2]), MergeSort(a[len(a)//2:])\n",
    "    return Merge(left, right)"
   ]
  },
  {
   "cell_type": "code",
   "execution_count": 31,
   "metadata": {},
   "outputs": [
    {
     "name": "stdout",
     "output_type": "stream",
     "text": [
      "List to be sorted:  [1, 3, 4, 6, 8, 9]\n",
      "List to be sorted:  [1, 3, 4]\n",
      "List to be sorted:  [3, 4]\n",
      "Lists to be merged:  [3] and [4]\n",
      "Lists to be merged:  [1] and [3, 4]\n",
      "List to be sorted:  [6, 8, 9]\n",
      "List to be sorted:  [8, 9]\n",
      "Lists to be merged:  [8] and [9]\n",
      "Lists to be merged:  [6] and [8, 9]\n",
      "Lists to be merged:  [1, 3, 4] and [6, 8, 9]\n",
      "[1, 3, 4, 6, 8, 9]\n"
     ]
    }
   ],
   "source": [
    "print(MergeSort([1,3,4,6,8,9]))"
   ]
  },
  {
   "cell_type": "code",
   "execution_count": 32,
   "metadata": {},
   "outputs": [
    {
     "name": "stdout",
     "output_type": "stream",
     "text": [
      "List to be sorted:  [4, 8, 3, 6, 9, 1]\n",
      "List to be sorted:  [4, 8, 3]\n",
      "List to be sorted:  [8, 3]\n",
      "Lists to be merged:  [8] and [3]\n",
      "Lists to be merged:  [4] and [3, 8]\n",
      "List to be sorted:  [6, 9, 1]\n",
      "List to be sorted:  [9, 1]\n",
      "Lists to be merged:  [9] and [1]\n",
      "Lists to be merged:  [6] and [1, 9]\n",
      "Lists to be merged:  [3, 4, 8] and [1, 6, 9]\n",
      "[1, 3, 4, 6, 8, 9]\n"
     ]
    }
   ],
   "source": [
    "print(MergeSort([4,8,3,6,9,1])) "
   ]
  },
  {
   "cell_type": "code",
   "execution_count": 33,
   "metadata": {},
   "outputs": [
    {
     "name": "stdout",
     "output_type": "stream",
     "text": [
      "List to be sorted:  [9, 8, 6, 4, 3, 1]\n",
      "List to be sorted:  [9, 8, 6]\n",
      "List to be sorted:  [8, 6]\n",
      "Lists to be merged:  [8] and [6]\n",
      "Lists to be merged:  [9] and [6, 8]\n",
      "List to be sorted:  [4, 3, 1]\n",
      "List to be sorted:  [3, 1]\n",
      "Lists to be merged:  [3] and [1]\n",
      "Lists to be merged:  [4] and [1, 3]\n",
      "Lists to be merged:  [6, 8, 9] and [1, 3, 4]\n",
      "[1, 3, 4, 6, 8, 9]\n"
     ]
    }
   ],
   "source": [
    "print(MergeSort([9,8,6,4,3,1]))"
   ]
  },
  {
   "cell_type": "code",
   "execution_count": 34,
   "metadata": {},
   "outputs": [
    {
     "name": "stdout",
     "output_type": "stream",
     "text": [
      "Array is empty\n"
     ]
    }
   ],
   "source": [
    "print(MergeSort([]))"
   ]
  },
  {
   "cell_type": "markdown",
   "metadata": {},
   "source": [
    "#### QUICK SORT"
   ]
  },
  {
   "cell_type": "code",
   "execution_count": 35,
   "metadata": {},
   "outputs": [],
   "source": [
    "from random import randint \n",
    "def QuickSort(a):\n",
    "    if len(a) <= 1: return a\n",
    "    \n",
    "    smaller, equalto, larger = [], [], []\n",
    "    pivot = a[randint(0, len(a)-1)]\n",
    "    for x in a:\n",
    "        if x < pivot: smaller.append(x)\n",
    "        elif x == pivot: equalto.append(x)\n",
    "        else: larger.append(x)\n",
    "    print('Lists after each loop: ', smaller, equalto, larger)\n",
    "    result = QuickSort(smaller) + equalto + QuickSort(larger)\n",
    "    return result"
   ]
  },
  {
   "cell_type": "code",
   "execution_count": 36,
   "metadata": {},
   "outputs": [
    {
     "name": "stdout",
     "output_type": "stream",
     "text": [
      "Lists after each loop:  [1, 3, 4, 6, 8] [9] []\n",
      "Lists after each loop:  [] [1] [3, 4, 6, 8]\n",
      "Lists after each loop:  [3] [4] [6, 8]\n",
      "Lists after each loop:  [6] [8] []\n",
      "[1, 3, 4, 6, 8, 9]\n"
     ]
    }
   ],
   "source": [
    "print(QuickSort([1,3,4,6,8,9]))"
   ]
  },
  {
   "cell_type": "code",
   "execution_count": 37,
   "metadata": {},
   "outputs": [
    {
     "name": "stdout",
     "output_type": "stream",
     "text": [
      "Lists after each loop:  [1] [3] [4, 8, 6, 9]\n",
      "Lists after each loop:  [4, 6] [8] [9]\n",
      "Lists after each loop:  [] [4] [6]\n",
      "[1, 3, 4, 6, 8, 9]\n"
     ]
    }
   ],
   "source": [
    "print(QuickSort([4,8,3,6,9,1])) "
   ]
  },
  {
   "cell_type": "code",
   "execution_count": 38,
   "metadata": {},
   "outputs": [
    {
     "name": "stdout",
     "output_type": "stream",
     "text": [
      "Lists after each loop:  [4, 3, 1] [6] [9, 8]\n",
      "Lists after each loop:  [] [1] [4, 3]\n",
      "Lists after each loop:  [3] [4] []\n",
      "Lists after each loop:  [8] [9] []\n",
      "[1, 3, 4, 6, 8, 9]\n"
     ]
    }
   ],
   "source": [
    "print(QuickSort([9,8,6,4,3,1]))"
   ]
  },
  {
   "cell_type": "code",
   "execution_count": 39,
   "metadata": {},
   "outputs": [
    {
     "name": "stdout",
     "output_type": "stream",
     "text": [
      "[]\n"
     ]
    }
   ],
   "source": [
    "print(QuickSort([]))"
   ]
  }
 ],
 "metadata": {
  "kernelspec": {
   "display_name": "Python 3",
   "language": "python",
   "name": "python3"
  },
  "language_info": {
   "codemirror_mode": {
    "name": "ipython",
    "version": 3
   },
   "file_extension": ".py",
   "mimetype": "text/x-python",
   "name": "python",
   "nbconvert_exporter": "python",
   "pygments_lexer": "ipython3",
   "version": "3.6.8"
  }
 },
 "nbformat": 4,
 "nbformat_minor": 2
}
